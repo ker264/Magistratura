{
  "nbformat": 4,
  "nbformat_minor": 0,
  "metadata": {
    "authors": [
      {
        "name": "Лещев Артем Олегович"
      }
    ],
    "group": "ИУ5-24М",
    "kernelspec": {
      "display_name": "Python 3",
      "language": "python",
      "name": "python3"
    },
    "lab_number": 6,
    "language_info": {
      "codemirror_mode": {
        "name": "ipython",
        "version": 3
      },
      "file_extension": ".py",
      "mimetype": "text/x-python",
      "name": "python",
      "nbconvert_exporter": "python",
      "pygments_lexer": "ipython3",
      "version": "3.7.3"
    },
    "title": "Ансамбли моделей машинного обучения",
    "colab": {
      "name": "ЛР6.ipynb",
      "provenance": [],
      "toc_visible": true
    }
  },
  "cells": [
    {
      "cell_type": "markdown",
      "metadata": {
        "id": "Fv58TAdeZgMT",
        "colab_type": "text"
      },
      "source": [
        "# Цель лабораторной работы\n",
        "Изучить ансамбли моделей машинного обучения<cite data-cite=\"ue:lab6\"></cite>."
      ]
    },
    {
      "cell_type": "markdown",
      "metadata": {
        "id": "ZMkVwh2XZgMU",
        "colab_type": "text"
      },
      "source": [
        "# Задание\n",
        "Требуется выполнить следующие действия<cite data-cite=\"ue:lab6\"></cite>:\n",
        "\n",
        "1. Выбрать набор данных (датасет) для&nbsp;решения задачи классификации или регресии.\n",
        "2. В&nbsp;случае необходимости проведите удаление или заполнение пропусков и кодирование категориальных признаков.\n",
        "3. С&nbsp;использованием метода `train_test_split` разделите выборку на&nbsp;обучающую и тестовую.\n",
        "4. Обучите две ансамблевые модели. Оцените качество модели с&nbsp;помощью одной из&nbsp;подходящих для&nbsp;задачи метрик. Сравните качество полученных моделей.\n",
        "5. Произведите для&nbsp;каждой модели подбор одного гиперпараметра. В&nbsp;зависимости от&nbsp;используемой библиотеки можно применять функцию `GridSearchCV`, использовать перебор параметров в&nbsp;цикле, или использовать другие методы.\n",
        "6. Повторите пункт&nbsp;4 для&nbsp;найденных оптимальных значения гиперпараметров. Сравните качество полученных моделей с&nbsp;качеством моделей, полученных в&nbsp;пункте&nbsp;4."
      ]
    },
    {
      "cell_type": "markdown",
      "metadata": {
        "id": "rkwCV3g6ZgMV",
        "colab_type": "text"
      },
      "source": [
        "# Ход выполнения работы"
      ]
    },
    {
      "cell_type": "markdown",
      "metadata": {
        "id": "Lf5GbEntZgMV",
        "colab_type": "text"
      },
      "source": [
        "Подключим все необходимые библиотеки и настроим отображение графиков<cite data-cite=\"doc:ipython,doc:seaborn\"></cite>:"
      ]
    },
    {
      "cell_type": "code",
      "metadata": {
        "id": "d6wvtUW5ZgMW",
        "colab_type": "code",
        "colab": {}
      },
      "source": [
        "from google.colab import files\n",
        "from datetime import datetime\n",
        "import matplotlib.pyplot as plt\n",
        "import numpy as np\n",
        "import pandas as pd\n",
        "from sklearn.ensemble import GradientBoostingRegressor\n",
        "from sklearn.ensemble import RandomForestRegressor\n",
        "from sklearn.metrics import mean_absolute_error\n",
        "from sklearn.metrics import median_absolute_error, r2_score\n",
        "from sklearn.model_selection import GridSearchCV\n",
        "from sklearn.model_selection import ShuffleSplit\n",
        "from sklearn.model_selection import train_test_split\n",
        "from sklearn.preprocessing import StandardScaler\n",
        "\n",
        "# Enable inline plots\n",
        "%matplotlib inline\n",
        "\n",
        "# Set plots formats to save high resolution PNG\n",
        "from IPython.display import set_matplotlib_formats\n",
        "set_matplotlib_formats(\"retina\")"
      ],
      "execution_count": 0,
      "outputs": []
    },
    {
      "cell_type": "markdown",
      "metadata": {
        "id": "5nLosIx8ZgMe",
        "colab_type": "text"
      },
      "source": [
        "## Предварительная подготовка данных"
      ]
    },
    {
      "cell_type": "markdown",
      "metadata": {
        "id": "FsaBsU3LZgMe",
        "colab_type": "text"
      },
      "source": [
        "В качестве датасета возьмем датасет с информацией о играх баскетбольных комманд колледжей.\n",
        "\n",
        "Данные о содержании: (из источника, Kaggle)\n",
        "\n",
        "RK (Only in cbb20): The ranking of the team at the end of the regular season according to barttorvik\n",
        "\n",
        "TEAM: The Division I college basketball school\n",
        "\n",
        "CONF: The Athletic Conference in which the school participates in (A10 = Atlantic 10, ACC = Atlantic Coast Conference, AE = America East, Amer = American, ASun = ASUN, B10 = Big Ten, B12 = Big 12, BE = Big East, BSky = Big Sky, BSth = Big South, BW = Big West, CAA = Colonial Athletic Association, CUSA = Conference USA, Horz = Horizon League, Ivy = Ivy League, MAAC = Metro Atlantic Athletic Conference, MAC = Mid-American Conference, MEAC = Mid-Eastern Athletic Conference, MVC = Missouri Valley Conference, MWC = Mountain West, NEC = Northeast Conference, OVC = Ohio Valley Conference, P12 = Pac-12, Pat = Patriot League, SB = Sun Belt, SC = Southern Conference, SEC = South Eastern Conference, Slnd = Southland Conference, Sum = Summit League, SWAC = Southwestern Athletic Conference, WAC = Western Athletic Conference, WCC = West Coast Conference)\n",
        "\n",
        "G: Number of games played\n",
        "\n",
        "W: Number of games won\n",
        "\n",
        "ADJOE: Adjusted Offensive Efficiency (An estimate of the offensive efficiency (points scored per 100 possessions) a team would have against the average Division I defense)\n",
        "\n",
        "ADJDE: Adjusted Defensive Efficiency (An estimate of the defensive efficiency (points allowed per 100 possessions) a team would have against the average Division I offense)\n",
        "\n",
        "BARTHAG: Power Rating (Chance of beating an average Division I team)\n",
        "\n",
        "EFG_O: Effective Field Goal Percentage Shot\n",
        "\n",
        "EFG_D: Effective Field Goal Percentage Allowed\n",
        "\n",
        "TOR: Turnover Percentage Allowed (Turnover Rate)\n",
        "\n",
        "TORD: Turnover Percentage Committed (Steal Rate)\n",
        "\n",
        "ORB: Offensive Rebound Percentage\n",
        "\n",
        "DRB: Defensive Rebound Percentage\n",
        "\n",
        "FTR : Free Throw Rate (How often the given team shoots Free Throws)\n",
        "\n",
        "FTRD: Free Throw Rate Allowed\n",
        "\n",
        "2P_O: Two-Point Shooting Percentage\n",
        "\n",
        "2P_D: Two-Point Shooting Percentage Allowed\n",
        "\n",
        "3P_O: Three-Point Shooting Percentage\n",
        "\n",
        "3P_D: Three-Point Shooting Percentage Allowed\n",
        "\n",
        "ADJ_T: Adjusted Tempo (An estimate of the tempo (possessions per 40 minutes) a team would have against the team that wants to play at an average Division I tempo)\n",
        "\n",
        "WAB: Wins Above Bubble (The bubble refers to the cut off between making the NCAA March Madness Tournament and not making it)\n",
        "\n",
        "POSTSEASON: Round where the given team was eliminated or where their season ended (R68 = First Four, R64 = Round of 64, R32 = Round of 32, S16 = Sweet Sixteen, E8 = Elite Eight, F4 = Final Four, 2ND = Runner-up, Champion = Winner of the NCAA March Madness Tournament for that given year)\n",
        "\n",
        "SEED: Seed in the NCAA March Madness Tournament\n",
        "\n",
        "YEAR: Season\n",
        "\n",
        "Поставим задачу предсказания количества оценок фильма по данным характеристикам. Построим модель машинного обучения для данного набора и решим задачу регрессии."
      ]
    },
    {
      "cell_type": "code",
      "metadata": {
        "id": "ucV7uv0DbaPQ",
        "colab_type": "code",
        "colab": {
          "resources": {
            "http://localhost:8080/nbextensions/google.colab/files.js": {
              "data": "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",
              "ok": true,
              "headers": [
                [
                  "content-type",
                  "application/javascript"
                ]
              ],
              "status": 200,
              "status_text": ""
            }
          },
          "base_uri": "https://localhost:8080/",
          "height": 74
        },
        "outputId": "ec6f548a-1a5e-4461-b01d-2524a1794869"
      },
      "source": [
        "uploaded = files.upload()"
      ],
      "execution_count": 2,
      "outputs": [
        {
          "output_type": "display_data",
          "data": {
            "text/html": [
              "\n",
              "     <input type=\"file\" id=\"files-e19b151b-4633-4892-87a3-125f4907746e\" name=\"files[]\" multiple disabled />\n",
              "     <output id=\"result-e19b151b-4633-4892-87a3-125f4907746e\">\n",
              "      Upload widget is only available when the cell has been executed in the\n",
              "      current browser session. Please rerun this cell to enable.\n",
              "      </output>\n",
              "      <script src=\"/nbextensions/google.colab/files.js\"></script> "
            ],
            "text/plain": [
              "<IPython.core.display.HTML object>"
            ]
          },
          "metadata": {
            "tags": []
          }
        },
        {
          "output_type": "stream",
          "text": [
            "Saving datasets_418778_1048669_cbb20.csv to datasets_418778_1048669_cbb20.csv\n"
          ],
          "name": "stdout"
        }
      ]
    },
    {
      "cell_type": "code",
      "metadata": {
        "id": "m9PbWxBNZgMf",
        "colab_type": "code",
        "colab": {}
      },
      "source": [
        "data = pd.read_csv(\"datasets_418778_1048669_cbb20.csv\")"
      ],
      "execution_count": 0,
      "outputs": []
    },
    {
      "cell_type": "markdown",
      "metadata": {
        "id": "mweooOgvZgMl",
        "colab_type": "text"
      },
      "source": [
        "Проверим полученные типы:"
      ]
    },
    {
      "cell_type": "code",
      "metadata": {
        "id": "w8k2gvXGb44j",
        "colab_type": "code",
        "colab": {}
      },
      "source": [
        "#Уберем нечисловые столбцы с данными\n",
        "data.drop(['TEAM', 'CONF'],axis='columns', inplace=True)"
      ],
      "execution_count": 0,
      "outputs": []
    },
    {
      "cell_type": "code",
      "metadata": {
        "id": "FyoJhHvbZgMm",
        "colab_type": "code",
        "colab": {
          "base_uri": "https://localhost:8080/",
          "height": 374
        },
        "outputId": "b88f085c-d91c-4950-b4bf-a240c63b6e90"
      },
      "source": [
        "data.dtypes"
      ],
      "execution_count": 6,
      "outputs": [
        {
          "output_type": "execute_result",
          "data": {
            "text/plain": [
              "RK           int64\n",
              "G            int64\n",
              "W            int64\n",
              "ADJOE      float64\n",
              "ADJDE      float64\n",
              "BARTHAG    float64\n",
              "EFG_O      float64\n",
              "EFG_D      float64\n",
              "TOR        float64\n",
              "TORD       float64\n",
              "ORB        float64\n",
              "DRB        float64\n",
              "FTR        float64\n",
              "FTRD       float64\n",
              "2P_O       float64\n",
              "2P_D       float64\n",
              "3P_O       float64\n",
              "3P_D       float64\n",
              "ADJ_T      float64\n",
              "WAB        float64\n",
              "dtype: object"
            ]
          },
          "metadata": {
            "tags": []
          },
          "execution_count": 6
        }
      ]
    },
    {
      "cell_type": "markdown",
      "metadata": {
        "id": "qie6KMfAZgMp",
        "colab_type": "text"
      },
      "source": [
        "Посмотрим на данные в&nbsp;данном наборе данных:"
      ]
    },
    {
      "cell_type": "code",
      "metadata": {
        "scrolled": false,
        "id": "V6g1gag0ZgMq",
        "colab_type": "code",
        "colab": {
          "base_uri": "https://localhost:8080/",
          "height": 204
        },
        "outputId": "8aad0675-2f5d-4200-9b3f-c690eece1829"
      },
      "source": [
        "data.head()"
      ],
      "execution_count": 7,
      "outputs": [
        {
          "output_type": "execute_result",
          "data": {
            "text/html": [
              "<div>\n",
              "<style scoped>\n",
              "    .dataframe tbody tr th:only-of-type {\n",
              "        vertical-align: middle;\n",
              "    }\n",
              "\n",
              "    .dataframe tbody tr th {\n",
              "        vertical-align: top;\n",
              "    }\n",
              "\n",
              "    .dataframe thead th {\n",
              "        text-align: right;\n",
              "    }\n",
              "</style>\n",
              "<table border=\"1\" class=\"dataframe\">\n",
              "  <thead>\n",
              "    <tr style=\"text-align: right;\">\n",
              "      <th></th>\n",
              "      <th>RK</th>\n",
              "      <th>G</th>\n",
              "      <th>W</th>\n",
              "      <th>ADJOE</th>\n",
              "      <th>ADJDE</th>\n",
              "      <th>BARTHAG</th>\n",
              "      <th>EFG_O</th>\n",
              "      <th>EFG_D</th>\n",
              "      <th>TOR</th>\n",
              "      <th>TORD</th>\n",
              "      <th>ORB</th>\n",
              "      <th>DRB</th>\n",
              "      <th>FTR</th>\n",
              "      <th>FTRD</th>\n",
              "      <th>2P_O</th>\n",
              "      <th>2P_D</th>\n",
              "      <th>3P_O</th>\n",
              "      <th>3P_D</th>\n",
              "      <th>ADJ_T</th>\n",
              "      <th>WAB</th>\n",
              "    </tr>\n",
              "  </thead>\n",
              "  <tbody>\n",
              "    <tr>\n",
              "      <th>0</th>\n",
              "      <td>1</td>\n",
              "      <td>30</td>\n",
              "      <td>28</td>\n",
              "      <td>116.1</td>\n",
              "      <td>87.7</td>\n",
              "      <td>0.9616</td>\n",
              "      <td>53.7</td>\n",
              "      <td>43.7</td>\n",
              "      <td>18.7</td>\n",
              "      <td>18.6</td>\n",
              "      <td>32.6</td>\n",
              "      <td>26.4</td>\n",
              "      <td>35.8</td>\n",
              "      <td>23.2</td>\n",
              "      <td>54.9</td>\n",
              "      <td>42.4</td>\n",
              "      <td>34.1</td>\n",
              "      <td>30.5</td>\n",
              "      <td>67.4</td>\n",
              "      <td>10.8</td>\n",
              "    </tr>\n",
              "    <tr>\n",
              "      <th>1</th>\n",
              "      <td>2</td>\n",
              "      <td>30</td>\n",
              "      <td>26</td>\n",
              "      <td>114.5</td>\n",
              "      <td>88.4</td>\n",
              "      <td>0.9513</td>\n",
              "      <td>49.4</td>\n",
              "      <td>45.2</td>\n",
              "      <td>17.8</td>\n",
              "      <td>22.7</td>\n",
              "      <td>35.8</td>\n",
              "      <td>29.8</td>\n",
              "      <td>30.8</td>\n",
              "      <td>30.8</td>\n",
              "      <td>47.5</td>\n",
              "      <td>44.4</td>\n",
              "      <td>35.1</td>\n",
              "      <td>31.1</td>\n",
              "      <td>66.2</td>\n",
              "      <td>8.5</td>\n",
              "    </tr>\n",
              "    <tr>\n",
              "      <th>2</th>\n",
              "      <td>3</td>\n",
              "      <td>33</td>\n",
              "      <td>31</td>\n",
              "      <td>121.3</td>\n",
              "      <td>94.3</td>\n",
              "      <td>0.9472</td>\n",
              "      <td>57.5</td>\n",
              "      <td>47.6</td>\n",
              "      <td>15.3</td>\n",
              "      <td>18.4</td>\n",
              "      <td>33.6</td>\n",
              "      <td>22.7</td>\n",
              "      <td>38.8</td>\n",
              "      <td>21.8</td>\n",
              "      <td>57.4</td>\n",
              "      <td>47.4</td>\n",
              "      <td>38.6</td>\n",
              "      <td>32.0</td>\n",
              "      <td>72.0</td>\n",
              "      <td>7.7</td>\n",
              "    </tr>\n",
              "    <tr>\n",
              "      <th>3</th>\n",
              "      <td>4</td>\n",
              "      <td>31</td>\n",
              "      <td>29</td>\n",
              "      <td>119.5</td>\n",
              "      <td>93.4</td>\n",
              "      <td>0.9445</td>\n",
              "      <td>59.7</td>\n",
              "      <td>46.6</td>\n",
              "      <td>18.0</td>\n",
              "      <td>18.8</td>\n",
              "      <td>26.4</td>\n",
              "      <td>26.6</td>\n",
              "      <td>33.9</td>\n",
              "      <td>30.9</td>\n",
              "      <td>62.3</td>\n",
              "      <td>45.1</td>\n",
              "      <td>37.1</td>\n",
              "      <td>33.0</td>\n",
              "      <td>67.5</td>\n",
              "      <td>6.8</td>\n",
              "    </tr>\n",
              "    <tr>\n",
              "      <th>4</th>\n",
              "      <td>5</td>\n",
              "      <td>31</td>\n",
              "      <td>22</td>\n",
              "      <td>114.8</td>\n",
              "      <td>91.3</td>\n",
              "      <td>0.9326</td>\n",
              "      <td>52.6</td>\n",
              "      <td>43.3</td>\n",
              "      <td>18.1</td>\n",
              "      <td>15.8</td>\n",
              "      <td>32.8</td>\n",
              "      <td>26.0</td>\n",
              "      <td>30.8</td>\n",
              "      <td>29.3</td>\n",
              "      <td>52.9</td>\n",
              "      <td>43.4</td>\n",
              "      <td>34.8</td>\n",
              "      <td>28.7</td>\n",
              "      <td>69.3</td>\n",
              "      <td>5.2</td>\n",
              "    </tr>\n",
              "  </tbody>\n",
              "</table>\n",
              "</div>"
            ],
            "text/plain": [
              "   RK   G   W  ADJOE  ADJDE  BARTHAG  ...  2P_O  2P_D  3P_O  3P_D  ADJ_T   WAB\n",
              "0   1  30  28  116.1   87.7   0.9616  ...  54.9  42.4  34.1  30.5   67.4  10.8\n",
              "1   2  30  26  114.5   88.4   0.9513  ...  47.5  44.4  35.1  31.1   66.2   8.5\n",
              "2   3  33  31  121.3   94.3   0.9472  ...  57.4  47.4  38.6  32.0   72.0   7.7\n",
              "3   4  31  29  119.5   93.4   0.9445  ...  62.3  45.1  37.1  33.0   67.5   6.8\n",
              "4   5  31  22  114.8   91.3   0.9326  ...  52.9  43.4  34.8  28.7   69.3   5.2\n",
              "\n",
              "[5 rows x 20 columns]"
            ]
          },
          "metadata": {
            "tags": []
          },
          "execution_count": 7
        }
      ]
    },
    {
      "cell_type": "markdown",
      "metadata": {
        "id": "nBCQ9lycZgM3",
        "colab_type": "text"
      },
      "source": [
        "Проверим размер набора данных:"
      ]
    },
    {
      "cell_type": "code",
      "metadata": {
        "id": "w07dTFT9ZgM4",
        "colab_type": "code",
        "colab": {
          "base_uri": "https://localhost:8080/",
          "height": 34
        },
        "outputId": "0ce7222e-d403-415f-aca9-36431b324e1c"
      },
      "source": [
        "data.shape"
      ],
      "execution_count": 9,
      "outputs": [
        {
          "output_type": "execute_result",
          "data": {
            "text/plain": [
              "(353, 20)"
            ]
          },
          "metadata": {
            "tags": []
          },
          "execution_count": 9
        }
      ]
    },
    {
      "cell_type": "markdown",
      "metadata": {
        "id": "ifvJ_22KZgM7",
        "colab_type": "text"
      },
      "source": [
        "Проверим основные статистические характеристики набора данных:"
      ]
    },
    {
      "cell_type": "code",
      "metadata": {
        "id": "TzMPaRejZgM8",
        "colab_type": "code",
        "colab": {
          "base_uri": "https://localhost:8080/",
          "height": 317
        },
        "outputId": "e5546aaa-8a62-4ef6-b78c-9a7c1ef27078"
      },
      "source": [
        "data.describe()"
      ],
      "execution_count": 10,
      "outputs": [
        {
          "output_type": "execute_result",
          "data": {
            "text/html": [
              "<div>\n",
              "<style scoped>\n",
              "    .dataframe tbody tr th:only-of-type {\n",
              "        vertical-align: middle;\n",
              "    }\n",
              "\n",
              "    .dataframe tbody tr th {\n",
              "        vertical-align: top;\n",
              "    }\n",
              "\n",
              "    .dataframe thead th {\n",
              "        text-align: right;\n",
              "    }\n",
              "</style>\n",
              "<table border=\"1\" class=\"dataframe\">\n",
              "  <thead>\n",
              "    <tr style=\"text-align: right;\">\n",
              "      <th></th>\n",
              "      <th>RK</th>\n",
              "      <th>G</th>\n",
              "      <th>W</th>\n",
              "      <th>ADJOE</th>\n",
              "      <th>ADJDE</th>\n",
              "      <th>BARTHAG</th>\n",
              "      <th>EFG_O</th>\n",
              "      <th>EFG_D</th>\n",
              "      <th>TOR</th>\n",
              "      <th>TORD</th>\n",
              "      <th>ORB</th>\n",
              "      <th>DRB</th>\n",
              "      <th>FTR</th>\n",
              "      <th>FTRD</th>\n",
              "      <th>2P_O</th>\n",
              "      <th>2P_D</th>\n",
              "      <th>3P_O</th>\n",
              "      <th>3P_D</th>\n",
              "      <th>ADJ_T</th>\n",
              "      <th>WAB</th>\n",
              "    </tr>\n",
              "  </thead>\n",
              "  <tbody>\n",
              "    <tr>\n",
              "      <th>count</th>\n",
              "      <td>353.000000</td>\n",
              "      <td>353.000000</td>\n",
              "      <td>353.000000</td>\n",
              "      <td>353.000000</td>\n",
              "      <td>353.000000</td>\n",
              "      <td>353.000000</td>\n",
              "      <td>353.000000</td>\n",
              "      <td>353.000000</td>\n",
              "      <td>353.000000</td>\n",
              "      <td>353.000000</td>\n",
              "      <td>353.000000</td>\n",
              "      <td>353.000000</td>\n",
              "      <td>353.000000</td>\n",
              "      <td>353.000000</td>\n",
              "      <td>353.000000</td>\n",
              "      <td>353.000000</td>\n",
              "      <td>353.000000</td>\n",
              "      <td>353.000000</td>\n",
              "      <td>353.000000</td>\n",
              "      <td>353.000000</td>\n",
              "    </tr>\n",
              "    <tr>\n",
              "      <th>mean</th>\n",
              "      <td>177.000000</td>\n",
              "      <td>30.186969</td>\n",
              "      <td>16.305949</td>\n",
              "      <td>102.241926</td>\n",
              "      <td>102.241926</td>\n",
              "      <td>0.497690</td>\n",
              "      <td>49.568555</td>\n",
              "      <td>49.606232</td>\n",
              "      <td>18.920397</td>\n",
              "      <td>18.897450</td>\n",
              "      <td>27.887819</td>\n",
              "      <td>27.967989</td>\n",
              "      <td>32.643626</td>\n",
              "      <td>32.792351</td>\n",
              "      <td>49.429745</td>\n",
              "      <td>49.426346</td>\n",
              "      <td>33.188102</td>\n",
              "      <td>33.266572</td>\n",
              "      <td>68.296601</td>\n",
              "      <td>-7.701416</td>\n",
              "    </tr>\n",
              "    <tr>\n",
              "      <th>std</th>\n",
              "      <td>102.046558</td>\n",
              "      <td>1.607564</td>\n",
              "      <td>5.484212</td>\n",
              "      <td>6.775256</td>\n",
              "      <td>6.430723</td>\n",
              "      <td>0.250529</td>\n",
              "      <td>2.793632</td>\n",
              "      <td>2.779841</td>\n",
              "      <td>2.020979</td>\n",
              "      <td>2.257429</td>\n",
              "      <td>3.996233</td>\n",
              "      <td>2.939827</td>\n",
              "      <td>4.872543</td>\n",
              "      <td>5.940799</td>\n",
              "      <td>3.078868</td>\n",
              "      <td>3.193862</td>\n",
              "      <td>2.575932</td>\n",
              "      <td>2.390990</td>\n",
              "      <td>2.642956</td>\n",
              "      <td>6.763289</td>\n",
              "    </tr>\n",
              "    <tr>\n",
              "      <th>min</th>\n",
              "      <td>1.000000</td>\n",
              "      <td>24.000000</td>\n",
              "      <td>1.000000</td>\n",
              "      <td>80.100000</td>\n",
              "      <td>85.600000</td>\n",
              "      <td>0.019400</td>\n",
              "      <td>39.300000</td>\n",
              "      <td>41.200000</td>\n",
              "      <td>13.600000</td>\n",
              "      <td>14.000000</td>\n",
              "      <td>14.200000</td>\n",
              "      <td>19.000000</td>\n",
              "      <td>21.700000</td>\n",
              "      <td>19.700000</td>\n",
              "      <td>40.200000</td>\n",
              "      <td>40.700000</td>\n",
              "      <td>24.800000</td>\n",
              "      <td>27.200000</td>\n",
              "      <td>59.400000</td>\n",
              "      <td>-25.200000</td>\n",
              "    </tr>\n",
              "    <tr>\n",
              "      <th>25%</th>\n",
              "      <td>89.000000</td>\n",
              "      <td>29.000000</td>\n",
              "      <td>13.000000</td>\n",
              "      <td>97.300000</td>\n",
              "      <td>98.000000</td>\n",
              "      <td>0.281800</td>\n",
              "      <td>47.600000</td>\n",
              "      <td>47.600000</td>\n",
              "      <td>17.800000</td>\n",
              "      <td>17.400000</td>\n",
              "      <td>25.200000</td>\n",
              "      <td>26.000000</td>\n",
              "      <td>29.100000</td>\n",
              "      <td>28.900000</td>\n",
              "      <td>47.300000</td>\n",
              "      <td>47.400000</td>\n",
              "      <td>31.500000</td>\n",
              "      <td>31.600000</td>\n",
              "      <td>66.400000</td>\n",
              "      <td>-12.800000</td>\n",
              "    </tr>\n",
              "    <tr>\n",
              "      <th>50%</th>\n",
              "      <td>177.000000</td>\n",
              "      <td>30.000000</td>\n",
              "      <td>16.000000</td>\n",
              "      <td>102.200000</td>\n",
              "      <td>102.000000</td>\n",
              "      <td>0.480400</td>\n",
              "      <td>49.600000</td>\n",
              "      <td>49.500000</td>\n",
              "      <td>18.800000</td>\n",
              "      <td>18.700000</td>\n",
              "      <td>27.900000</td>\n",
              "      <td>28.000000</td>\n",
              "      <td>32.600000</td>\n",
              "      <td>31.900000</td>\n",
              "      <td>49.400000</td>\n",
              "      <td>49.400000</td>\n",
              "      <td>33.300000</td>\n",
              "      <td>33.200000</td>\n",
              "      <td>68.200000</td>\n",
              "      <td>-7.600000</td>\n",
              "    </tr>\n",
              "    <tr>\n",
              "      <th>75%</th>\n",
              "      <td>265.000000</td>\n",
              "      <td>31.000000</td>\n",
              "      <td>20.000000</td>\n",
              "      <td>106.700000</td>\n",
              "      <td>106.400000</td>\n",
              "      <td>0.720700</td>\n",
              "      <td>51.500000</td>\n",
              "      <td>51.500000</td>\n",
              "      <td>20.300000</td>\n",
              "      <td>20.300000</td>\n",
              "      <td>30.600000</td>\n",
              "      <td>29.900000</td>\n",
              "      <td>35.800000</td>\n",
              "      <td>36.300000</td>\n",
              "      <td>51.500000</td>\n",
              "      <td>51.600000</td>\n",
              "      <td>34.900000</td>\n",
              "      <td>34.700000</td>\n",
              "      <td>69.800000</td>\n",
              "      <td>-3.100000</td>\n",
              "    </tr>\n",
              "    <tr>\n",
              "      <th>max</th>\n",
              "      <td>353.000000</td>\n",
              "      <td>34.000000</td>\n",
              "      <td>31.000000</td>\n",
              "      <td>121.300000</td>\n",
              "      <td>122.700000</td>\n",
              "      <td>0.961600</td>\n",
              "      <td>59.700000</td>\n",
              "      <td>58.400000</td>\n",
              "      <td>26.600000</td>\n",
              "      <td>27.800000</td>\n",
              "      <td>40.100000</td>\n",
              "      <td>36.900000</td>\n",
              "      <td>48.100000</td>\n",
              "      <td>53.000000</td>\n",
              "      <td>62.300000</td>\n",
              "      <td>58.400000</td>\n",
              "      <td>41.900000</td>\n",
              "      <td>40.600000</td>\n",
              "      <td>77.400000</td>\n",
              "      <td>10.800000</td>\n",
              "    </tr>\n",
              "  </tbody>\n",
              "</table>\n",
              "</div>"
            ],
            "text/plain": [
              "               RK           G           W  ...        3P_D       ADJ_T         WAB\n",
              "count  353.000000  353.000000  353.000000  ...  353.000000  353.000000  353.000000\n",
              "mean   177.000000   30.186969   16.305949  ...   33.266572   68.296601   -7.701416\n",
              "std    102.046558    1.607564    5.484212  ...    2.390990    2.642956    6.763289\n",
              "min      1.000000   24.000000    1.000000  ...   27.200000   59.400000  -25.200000\n",
              "25%     89.000000   29.000000   13.000000  ...   31.600000   66.400000  -12.800000\n",
              "50%    177.000000   30.000000   16.000000  ...   33.200000   68.200000   -7.600000\n",
              "75%    265.000000   31.000000   20.000000  ...   34.700000   69.800000   -3.100000\n",
              "max    353.000000   34.000000   31.000000  ...   40.600000   77.400000   10.800000\n",
              "\n",
              "[8 rows x 20 columns]"
            ]
          },
          "metadata": {
            "tags": []
          },
          "execution_count": 10
        }
      ]
    },
    {
      "cell_type": "markdown",
      "metadata": {
        "id": "DKQalZ1CZgM_",
        "colab_type": "text"
      },
      "source": [
        "Проверим наличие пропусков в&nbsp;данных:"
      ]
    },
    {
      "cell_type": "code",
      "metadata": {
        "id": "REtMouz7ZgM_",
        "colab_type": "code",
        "colab": {
          "base_uri": "https://localhost:8080/",
          "height": 374
        },
        "outputId": "a46883b2-0532-4ca2-f08b-3615ce394c9b"
      },
      "source": [
        "data.isnull().sum()"
      ],
      "execution_count": 11,
      "outputs": [
        {
          "output_type": "execute_result",
          "data": {
            "text/plain": [
              "RK         0\n",
              "G          0\n",
              "W          0\n",
              "ADJOE      0\n",
              "ADJDE      0\n",
              "BARTHAG    0\n",
              "EFG_O      0\n",
              "EFG_D      0\n",
              "TOR        0\n",
              "TORD       0\n",
              "ORB        0\n",
              "DRB        0\n",
              "FTR        0\n",
              "FTRD       0\n",
              "2P_O       0\n",
              "2P_D       0\n",
              "3P_O       0\n",
              "3P_D       0\n",
              "ADJ_T      0\n",
              "WAB        0\n",
              "dtype: int64"
            ]
          },
          "metadata": {
            "tags": []
          },
          "execution_count": 11
        }
      ]
    },
    {
      "cell_type": "markdown",
      "metadata": {
        "id": "-WnaJNGNZgNE",
        "colab_type": "text"
      },
      "source": [
        "## Разделение данных\n",
        "Разделим данные на&nbsp;целевой столбец и признаки:"
      ]
    },
    {
      "cell_type": "code",
      "metadata": {
        "id": "E6uZBd-0ZgNH",
        "colab_type": "code",
        "colab": {}
      },
      "source": [
        "y = data[\"RK\"]\n",
        "X = data.drop(\"RK\", axis=1)"
      ],
      "execution_count": 0,
      "outputs": []
    },
    {
      "cell_type": "code",
      "metadata": {
        "id": "haR0szVMZgNK",
        "colab_type": "code",
        "colab": {
          "base_uri": "https://localhost:8080/",
          "height": 272
        },
        "outputId": "47b644fd-da61-47cd-acc1-6cccfe69799c"
      },
      "source": [
        "print(X.head(), \"\\n\")\n",
        "print(y.head())"
      ],
      "execution_count": 13,
      "outputs": [
        {
          "output_type": "stream",
          "text": [
            "    G   W  ADJOE  ADJDE  BARTHAG  EFG_O  ...  2P_O  2P_D  3P_O  3P_D  ADJ_T   WAB\n",
            "0  30  28  116.1   87.7   0.9616   53.7  ...  54.9  42.4  34.1  30.5   67.4  10.8\n",
            "1  30  26  114.5   88.4   0.9513   49.4  ...  47.5  44.4  35.1  31.1   66.2   8.5\n",
            "2  33  31  121.3   94.3   0.9472   57.5  ...  57.4  47.4  38.6  32.0   72.0   7.7\n",
            "3  31  29  119.5   93.4   0.9445   59.7  ...  62.3  45.1  37.1  33.0   67.5   6.8\n",
            "4  31  22  114.8   91.3   0.9326   52.6  ...  52.9  43.4  34.8  28.7   69.3   5.2\n",
            "\n",
            "[5 rows x 19 columns] \n",
            "\n",
            "0    1\n",
            "1    2\n",
            "2    3\n",
            "3    4\n",
            "4    5\n",
            "Name: RK, dtype: int64\n"
          ],
          "name": "stdout"
        }
      ]
    },
    {
      "cell_type": "code",
      "metadata": {
        "id": "f0qyKRhxZgNM",
        "colab_type": "code",
        "colab": {
          "base_uri": "https://localhost:8080/",
          "height": 51
        },
        "outputId": "558ecd8f-d58b-4ca4-8db9-ec57a4a8dd80"
      },
      "source": [
        "print(X.shape)\n",
        "print(y.shape)"
      ],
      "execution_count": 14,
      "outputs": [
        {
          "output_type": "stream",
          "text": [
            "(353, 19)\n",
            "(353,)\n"
          ],
          "name": "stdout"
        }
      ]
    },
    {
      "cell_type": "markdown",
      "metadata": {
        "id": "xuILJcgDZgNP",
        "colab_type": "text"
      },
      "source": [
        "Предобработаем данные, чтобы методы работали лучше:"
      ]
    },
    {
      "cell_type": "code",
      "metadata": {
        "id": "6mAsHBV5ZgNQ",
        "colab_type": "code",
        "colab": {
          "base_uri": "https://localhost:8080/",
          "height": 317
        },
        "outputId": "07ec21df-a663-41da-ba9a-2c74ad438f22"
      },
      "source": [
        "columns = X.columns\n",
        "scaler = StandardScaler()\n",
        "X = scaler.fit_transform(X)\n",
        "pd.DataFrame(X, columns=columns).describe()"
      ],
      "execution_count": 15,
      "outputs": [
        {
          "output_type": "execute_result",
          "data": {
            "text/html": [
              "<div>\n",
              "<style scoped>\n",
              "    .dataframe tbody tr th:only-of-type {\n",
              "        vertical-align: middle;\n",
              "    }\n",
              "\n",
              "    .dataframe tbody tr th {\n",
              "        vertical-align: top;\n",
              "    }\n",
              "\n",
              "    .dataframe thead th {\n",
              "        text-align: right;\n",
              "    }\n",
              "</style>\n",
              "<table border=\"1\" class=\"dataframe\">\n",
              "  <thead>\n",
              "    <tr style=\"text-align: right;\">\n",
              "      <th></th>\n",
              "      <th>G</th>\n",
              "      <th>W</th>\n",
              "      <th>ADJOE</th>\n",
              "      <th>ADJDE</th>\n",
              "      <th>BARTHAG</th>\n",
              "      <th>EFG_O</th>\n",
              "      <th>EFG_D</th>\n",
              "      <th>TOR</th>\n",
              "      <th>TORD</th>\n",
              "      <th>ORB</th>\n",
              "      <th>DRB</th>\n",
              "      <th>FTR</th>\n",
              "      <th>FTRD</th>\n",
              "      <th>2P_O</th>\n",
              "      <th>2P_D</th>\n",
              "      <th>3P_O</th>\n",
              "      <th>3P_D</th>\n",
              "      <th>ADJ_T</th>\n",
              "      <th>WAB</th>\n",
              "    </tr>\n",
              "  </thead>\n",
              "  <tbody>\n",
              "    <tr>\n",
              "      <th>count</th>\n",
              "      <td>3.530000e+02</td>\n",
              "      <td>3.530000e+02</td>\n",
              "      <td>3.530000e+02</td>\n",
              "      <td>3.530000e+02</td>\n",
              "      <td>3.530000e+02</td>\n",
              "      <td>3.530000e+02</td>\n",
              "      <td>3.530000e+02</td>\n",
              "      <td>3.530000e+02</td>\n",
              "      <td>3.530000e+02</td>\n",
              "      <td>3.530000e+02</td>\n",
              "      <td>3.530000e+02</td>\n",
              "      <td>3.530000e+02</td>\n",
              "      <td>3.530000e+02</td>\n",
              "      <td>3.530000e+02</td>\n",
              "      <td>3.530000e+02</td>\n",
              "      <td>3.530000e+02</td>\n",
              "      <td>3.530000e+02</td>\n",
              "      <td>3.530000e+02</td>\n",
              "      <td>3.530000e+02</td>\n",
              "    </tr>\n",
              "    <tr>\n",
              "      <th>mean</th>\n",
              "      <td>5.346683e-16</td>\n",
              "      <td>1.002660e-15</td>\n",
              "      <td>-1.090723e-15</td>\n",
              "      <td>3.073399e-15</td>\n",
              "      <td>-6.856335e-17</td>\n",
              "      <td>2.175786e-15</td>\n",
              "      <td>2.402862e-16</td>\n",
              "      <td>-5.095075e-16</td>\n",
              "      <td>-2.453184e-16</td>\n",
              "      <td>3.057045e-16</td>\n",
              "      <td>-7.485356e-16</td>\n",
              "      <td>-1.086320e-15</td>\n",
              "      <td>1.993998e-16</td>\n",
              "      <td>2.843177e-15</td>\n",
              "      <td>-8.605015e-16</td>\n",
              "      <td>9.837897e-16</td>\n",
              "      <td>4.403151e-17</td>\n",
              "      <td>5.494975e-15</td>\n",
              "      <td>2.195285e-16</td>\n",
              "    </tr>\n",
              "    <tr>\n",
              "      <th>std</th>\n",
              "      <td>1.001419e+00</td>\n",
              "      <td>1.001419e+00</td>\n",
              "      <td>1.001419e+00</td>\n",
              "      <td>1.001419e+00</td>\n",
              "      <td>1.001419e+00</td>\n",
              "      <td>1.001419e+00</td>\n",
              "      <td>1.001419e+00</td>\n",
              "      <td>1.001419e+00</td>\n",
              "      <td>1.001419e+00</td>\n",
              "      <td>1.001419e+00</td>\n",
              "      <td>1.001419e+00</td>\n",
              "      <td>1.001419e+00</td>\n",
              "      <td>1.001419e+00</td>\n",
              "      <td>1.001419e+00</td>\n",
              "      <td>1.001419e+00</td>\n",
              "      <td>1.001419e+00</td>\n",
              "      <td>1.001419e+00</td>\n",
              "      <td>1.001419e+00</td>\n",
              "      <td>1.001419e+00</td>\n",
              "    </tr>\n",
              "    <tr>\n",
              "      <th>min</th>\n",
              "      <td>-3.854124e+00</td>\n",
              "      <td>-2.794873e+00</td>\n",
              "      <td>-3.272697e+00</td>\n",
              "      <td>-2.591551e+00</td>\n",
              "      <td>-1.911827e+00</td>\n",
              "      <td>-3.680919e+00</td>\n",
              "      <td>-3.028290e+00</td>\n",
              "      <td>-2.636321e+00</td>\n",
              "      <td>-2.172561e+00</td>\n",
              "      <td>-3.430042e+00</td>\n",
              "      <td>-3.054846e+00</td>\n",
              "      <td>-2.249167e+00</td>\n",
              "      <td>-2.206931e+00</td>\n",
              "      <td>-3.002028e+00</td>\n",
              "      <td>-2.736102e+00</td>\n",
              "      <td>-3.260959e+00</td>\n",
              "      <td>-2.540865e+00</td>\n",
              "      <td>-3.370934e+00</td>\n",
              "      <td>-2.590962e+00</td>\n",
              "    </tr>\n",
              "    <tr>\n",
              "      <th>25%</th>\n",
              "      <td>-7.394130e-01</td>\n",
              "      <td>-6.036677e-01</td>\n",
              "      <td>-7.304435e-01</td>\n",
              "      <td>-6.605707e-01</td>\n",
              "      <td>-8.629571e-01</td>\n",
              "      <td>-7.056584e-01</td>\n",
              "      <td>-7.227319e-01</td>\n",
              "      <td>-5.551701e-01</td>\n",
              "      <td>-6.642848e-01</td>\n",
              "      <td>-6.735428e-01</td>\n",
              "      <td>-6.703736e-01</td>\n",
              "      <td>-7.282966e-01</td>\n",
              "      <td>-6.561199e-01</td>\n",
              "      <td>-6.927119e-01</td>\n",
              "      <td>-6.353506e-01</td>\n",
              "      <td>-6.562666e-01</td>\n",
              "      <td>-6.980112e-01</td>\n",
              "      <td>-7.186244e-01</td>\n",
              "      <td>-7.549317e-01</td>\n",
              "    </tr>\n",
              "    <tr>\n",
              "      <th>50%</th>\n",
              "      <td>-1.164708e-01</td>\n",
              "      <td>-5.586642e-02</td>\n",
              "      <td>-6.196941e-03</td>\n",
              "      <td>-3.767379e-02</td>\n",
              "      <td>-6.910995e-02</td>\n",
              "      <td>1.127185e-02</td>\n",
              "      <td>-3.826948e-02</td>\n",
              "      <td>-5.965797e-02</td>\n",
              "      <td>-8.759108e-02</td>\n",
              "      <td>3.052523e-03</td>\n",
              "      <td>1.090431e-02</td>\n",
              "      <td>-8.966158e-03</td>\n",
              "      <td>-1.504205e-01</td>\n",
              "      <td>-9.674747e-03</td>\n",
              "      <td>-8.260535e-03</td>\n",
              "      <td>4.350148e-02</td>\n",
              "      <td>-2.788248e-02</td>\n",
              "      <td>-3.660208e-02</td>\n",
              "      <td>1.501642e-02</td>\n",
              "    </tr>\n",
              "    <tr>\n",
              "      <th>75%</th>\n",
              "      <td>5.064715e-01</td>\n",
              "      <td>6.745353e-01</td>\n",
              "      <td>6.589274e-01</td>\n",
              "      <td>6.475128e-01</td>\n",
              "      <td>8.914212e-01</td>\n",
              "      <td>6.923555e-01</td>\n",
              "      <td>6.822173e-01</td>\n",
              "      <td>6.836102e-01</td>\n",
              "      <td>6.221857e-01</td>\n",
              "      <td>6.796478e-01</td>\n",
              "      <td>6.581183e-01</td>\n",
              "      <td>6.487074e-01</td>\n",
              "      <td>5.912719e-01</td>\n",
              "      <td>6.733624e-01</td>\n",
              "      <td>6.815385e-01</td>\n",
              "      <td>6.655175e-01</td>\n",
              "      <td>6.003632e-01</td>\n",
              "      <td>5.696400e-01</td>\n",
              "      <td>6.813177e-01</td>\n",
              "    </tr>\n",
              "    <tr>\n",
              "      <th>max</th>\n",
              "      <td>2.375298e+00</td>\n",
              "      <td>2.683140e+00</td>\n",
              "      <td>2.816886e+00</td>\n",
              "      <td>3.185818e+00</td>\n",
              "      <td>1.854351e+00</td>\n",
              "      <td>3.631769e+00</td>\n",
              "      <td>3.167897e+00</td>\n",
              "      <td>3.805336e+00</td>\n",
              "      <td>3.949265e+00</td>\n",
              "      <td>3.060261e+00</td>\n",
              "      <td>3.042591e+00</td>\n",
              "      <td>3.176640e+00</td>\n",
              "      <td>3.406332e+00</td>\n",
              "      <td>4.186125e+00</td>\n",
              "      <td>2.813645e+00</td>\n",
              "      <td>3.386838e+00</td>\n",
              "      <td>3.071463e+00</td>\n",
              "      <td>3.449290e+00</td>\n",
              "      <td>2.739448e+00</td>\n",
              "    </tr>\n",
              "  </tbody>\n",
              "</table>\n",
              "</div>"
            ],
            "text/plain": [
              "                  G             W  ...         ADJ_T           WAB\n",
              "count  3.530000e+02  3.530000e+02  ...  3.530000e+02  3.530000e+02\n",
              "mean   5.346683e-16  1.002660e-15  ...  5.494975e-15  2.195285e-16\n",
              "std    1.001419e+00  1.001419e+00  ...  1.001419e+00  1.001419e+00\n",
              "min   -3.854124e+00 -2.794873e+00  ... -3.370934e+00 -2.590962e+00\n",
              "25%   -7.394130e-01 -6.036677e-01  ... -7.186244e-01 -7.549317e-01\n",
              "50%   -1.164708e-01 -5.586642e-02  ... -3.660208e-02  1.501642e-02\n",
              "75%    5.064715e-01  6.745353e-01  ...  5.696400e-01  6.813177e-01\n",
              "max    2.375298e+00  2.683140e+00  ...  3.449290e+00  2.739448e+00\n",
              "\n",
              "[8 rows x 19 columns]"
            ]
          },
          "metadata": {
            "tags": []
          },
          "execution_count": 15
        }
      ]
    },
    {
      "cell_type": "markdown",
      "metadata": {
        "id": "V4WmOjrsZgNS",
        "colab_type": "text"
      },
      "source": [
        "Разделим выборку на&nbsp;тренировочную и тестовую:"
      ]
    },
    {
      "cell_type": "code",
      "metadata": {
        "id": "EySj3TISZgNS",
        "colab_type": "code",
        "colab": {}
      },
      "source": [
        "X_train, X_test, y_train, y_test = train_test_split(X, y,\n",
        "                            test_size=0.25, random_state=346705925)"
      ],
      "execution_count": 0,
      "outputs": []
    },
    {
      "cell_type": "code",
      "metadata": {
        "id": "oYlWNjTvZgNV",
        "colab_type": "code",
        "colab": {
          "base_uri": "https://localhost:8080/",
          "height": 85
        },
        "outputId": "d83f151f-d1b8-45c5-b193-75cd33607ee3"
      },
      "source": [
        "print(X_train.shape)\n",
        "print(X_test.shape)\n",
        "print(y_train.shape)\n",
        "print(y_test.shape)"
      ],
      "execution_count": 17,
      "outputs": [
        {
          "output_type": "stream",
          "text": [
            "(264, 19)\n",
            "(89, 19)\n",
            "(264,)\n",
            "(89,)\n"
          ],
          "name": "stdout"
        }
      ]
    },
    {
      "cell_type": "markdown",
      "metadata": {
        "id": "2uVJc011ZgNX",
        "colab_type": "text"
      },
      "source": [
        "## Обучение моделей"
      ]
    },
    {
      "cell_type": "markdown",
      "metadata": {
        "id": "UuKd_nTEZgNX",
        "colab_type": "text"
      },
      "source": [
        "Напишем функцию, которая считает метрики построенной модели:"
      ]
    },
    {
      "cell_type": "code",
      "metadata": {
        "id": "FsOW_GrFZgNY",
        "colab_type": "code",
        "colab": {}
      },
      "source": [
        "def test_model(model):\n",
        "    print(\"mean_absolute_error:\",\n",
        "          mean_absolute_error(y_test, model.predict(X_test)))\n",
        "    print(\"median_absolute_error:\",\n",
        "          median_absolute_error(y_test, model.predict(X_test)))\n",
        "    print(\"r2_score:\",\n",
        "          r2_score(y_test, model.predict(X_test)))"
      ],
      "execution_count": 0,
      "outputs": []
    },
    {
      "cell_type": "markdown",
      "metadata": {
        "id": "cHNoHvdLZgNa",
        "colab_type": "text"
      },
      "source": [
        "### Случайный лес"
      ]
    },
    {
      "cell_type": "markdown",
      "metadata": {
        "id": "t37OYTVhZgNa",
        "colab_type": "text"
      },
      "source": [
        "Попробуем случайный лес с&nbsp;гиперпараметром $n=264$:"
      ]
    },
    {
      "cell_type": "code",
      "metadata": {
        "id": "qlR6VyNRZgNb",
        "colab_type": "code",
        "colab": {
          "base_uri": "https://localhost:8080/",
          "height": 136
        },
        "outputId": "3d66964c-54a9-4285-829e-ee9169c5d883"
      },
      "source": [
        "ran_264 = RandomForestRegressor(n_estimators=264)\n",
        "ran_264.fit(X_train, y_train)"
      ],
      "execution_count": 23,
      "outputs": [
        {
          "output_type": "execute_result",
          "data": {
            "text/plain": [
              "RandomForestRegressor(bootstrap=True, ccp_alpha=0.0, criterion='mse',\n",
              "                      max_depth=None, max_features='auto', max_leaf_nodes=None,\n",
              "                      max_samples=None, min_impurity_decrease=0.0,\n",
              "                      min_impurity_split=None, min_samples_leaf=1,\n",
              "                      min_samples_split=2, min_weight_fraction_leaf=0.0,\n",
              "                      n_estimators=264, n_jobs=None, oob_score=False,\n",
              "                      random_state=None, verbose=0, warm_start=False)"
            ]
          },
          "metadata": {
            "tags": []
          },
          "execution_count": 23
        }
      ]
    },
    {
      "cell_type": "markdown",
      "metadata": {
        "id": "FtU2LtAsZgNg",
        "colab_type": "text"
      },
      "source": [
        "Проверим метрики построенной модели:"
      ]
    },
    {
      "cell_type": "code",
      "metadata": {
        "id": "njyNdNQjZgNg",
        "colab_type": "code",
        "colab": {
          "base_uri": "https://localhost:8080/",
          "height": 68
        },
        "outputId": "29e63f78-6f96-485f-dd94-0eb362f124fe"
      },
      "source": [
        "test_model(ran_264)"
      ],
      "execution_count": 24,
      "outputs": [
        {
          "output_type": "stream",
          "text": [
            "mean_absolute_error: 1.4386278515491995\n",
            "median_absolute_error: 0.9886363636363669\n",
            "r2_score: 0.9996324988701671\n"
          ],
          "name": "stdout"
        }
      ]
    },
    {
      "cell_type": "markdown",
      "metadata": {
        "id": "-VuBHTvZZgNl",
        "colab_type": "text"
      },
      "source": [
        "Видно, что данный метод даже без&nbsp;настройки гиперпараметров уже показывает очень неплохой результат."
      ]
    },
    {
      "cell_type": "markdown",
      "metadata": {
        "id": "kzGEIZy_ZgNm",
        "colab_type": "text"
      },
      "source": [
        "### Градиентный бустинг"
      ]
    },
    {
      "cell_type": "markdown",
      "metadata": {
        "id": "NuxbmNb2ZgNm",
        "colab_type": "text"
      },
      "source": [
        "Попробуем градиентный бустинг с&nbsp;гиперпараметром $n=264$:"
      ]
    },
    {
      "cell_type": "code",
      "metadata": {
        "id": "ZJgB5jgZZgNn",
        "colab_type": "code",
        "colab": {
          "base_uri": "https://localhost:8080/",
          "height": 170
        },
        "outputId": "2b1671de-36a2-48d4-f04e-3ed0b8f1c31e"
      },
      "source": [
        "gr_264 = GradientBoostingRegressor(n_estimators=264)\n",
        "gr_264.fit(X_train, y_train)"
      ],
      "execution_count": 30,
      "outputs": [
        {
          "output_type": "execute_result",
          "data": {
            "text/plain": [
              "GradientBoostingRegressor(alpha=0.9, ccp_alpha=0.0, criterion='friedman_mse',\n",
              "                          init=None, learning_rate=0.1, loss='ls', max_depth=3,\n",
              "                          max_features=None, max_leaf_nodes=None,\n",
              "                          min_impurity_decrease=0.0, min_impurity_split=None,\n",
              "                          min_samples_leaf=1, min_samples_split=2,\n",
              "                          min_weight_fraction_leaf=0.0, n_estimators=264,\n",
              "                          n_iter_no_change=None, presort='deprecated',\n",
              "                          random_state=None, subsample=1.0, tol=0.0001,\n",
              "                          validation_fraction=0.1, verbose=0, warm_start=False)"
            ]
          },
          "metadata": {
            "tags": []
          },
          "execution_count": 30
        }
      ]
    },
    {
      "cell_type": "markdown",
      "metadata": {
        "id": "V9UE4-paZgNp",
        "colab_type": "text"
      },
      "source": [
        "Проверим метрики построенной модели:"
      ]
    },
    {
      "cell_type": "code",
      "metadata": {
        "id": "Bt0vA2yTZgNq",
        "colab_type": "code",
        "colab": {
          "base_uri": "https://localhost:8080/",
          "height": 68
        },
        "outputId": "c7f5eb7f-b53b-4d44-9ffd-a4ce7c4971ae"
      },
      "source": [
        "test_model(gr_264)"
      ],
      "execution_count": 31,
      "outputs": [
        {
          "output_type": "stream",
          "text": [
            "mean_absolute_error: 1.2759182951497932\n",
            "median_absolute_error: 1.0829624494705854\n",
            "r2_score: 0.999768988217112\n"
          ],
          "name": "stdout"
        }
      ]
    },
    {
      "cell_type": "markdown",
      "metadata": {
        "id": "AR3AofhyZgNs",
        "colab_type": "text"
      },
      "source": [
        "Ожидаемо градиентный бустинг оказался немного лучше по&nbsp;сравнению со&nbsp;случайным лесом."
      ]
    },
    {
      "cell_type": "markdown",
      "metadata": {
        "id": "ZtNWkh5rZgNs",
        "colab_type": "text"
      },
      "source": [
        "## Подбор гиперпараметра $n$"
      ]
    },
    {
      "cell_type": "markdown",
      "metadata": {
        "id": "o1UnbYUeZgNt",
        "colab_type": "text"
      },
      "source": [
        "### Случайный лес"
      ]
    },
    {
      "cell_type": "markdown",
      "metadata": {
        "id": "93-IhoyRZgNt",
        "colab_type": "text"
      },
      "source": [
        "Введем список настраиваемых параметров:"
      ]
    },
    {
      "cell_type": "code",
      "metadata": {
        "id": "nn9auu9lZgNu",
        "colab_type": "code",
        "colab": {
          "base_uri": "https://localhost:8080/",
          "height": 51
        },
        "outputId": "c9bf9470-157d-46cf-bb30-0a18f648a5ae"
      },
      "source": [
        "param_range = np.arange(10, 201, 10)\n",
        "tuned_parameters = [{'n_estimators': param_range}]\n",
        "tuned_parameters"
      ],
      "execution_count": 35,
      "outputs": [
        {
          "output_type": "execute_result",
          "data": {
            "text/plain": [
              "[{'n_estimators': array([ 10,  20,  30,  40,  50,  60,  70,  80,  90, 100, 110, 120, 130,\n",
              "         140, 150, 160, 170, 180, 190, 200])}]"
            ]
          },
          "metadata": {
            "tags": []
          },
          "execution_count": 35
        }
      ]
    },
    {
      "cell_type": "markdown",
      "metadata": {
        "id": "auoruPXIZgNy",
        "colab_type": "text"
      },
      "source": [
        "Запустим подбор параметра:"
      ]
    },
    {
      "cell_type": "code",
      "metadata": {
        "id": "pK5WUWlKZgNy",
        "colab_type": "code",
        "colab": {
          "base_uri": "https://localhost:8080/",
          "height": 136
        },
        "outputId": "099cc9a2-dcbe-4b88-afb2-be21455f0b14"
      },
      "source": [
        "gs = GridSearchCV(RandomForestRegressor(), tuned_parameters,\n",
        "                  cv=ShuffleSplit(n_splits=10), scoring=\"r2\",\n",
        "                  return_train_score=True, n_jobs=-1)\n",
        "gs.fit(X, y)\n",
        "gs.best_estimator_"
      ],
      "execution_count": 36,
      "outputs": [
        {
          "output_type": "execute_result",
          "data": {
            "text/plain": [
              "RandomForestRegressor(bootstrap=True, ccp_alpha=0.0, criterion='mse',\n",
              "                      max_depth=None, max_features='auto', max_leaf_nodes=None,\n",
              "                      max_samples=None, min_impurity_decrease=0.0,\n",
              "                      min_impurity_split=None, min_samples_leaf=1,\n",
              "                      min_samples_split=2, min_weight_fraction_leaf=0.0,\n",
              "                      n_estimators=160, n_jobs=None, oob_score=False,\n",
              "                      random_state=None, verbose=0, warm_start=False)"
            ]
          },
          "metadata": {
            "tags": []
          },
          "execution_count": 36
        }
      ]
    },
    {
      "cell_type": "markdown",
      "metadata": {
        "id": "vWXWJyX1ZgN1",
        "colab_type": "text"
      },
      "source": [
        "Проверим результаты при&nbsp;разных значения гиперпараметра на&nbsp;тренировочном наборе данных:"
      ]
    },
    {
      "cell_type": "code",
      "metadata": {
        "id": "hlDf3iFFZgN1",
        "colab_type": "code",
        "colab": {
          "base_uri": "https://localhost:8080/",
          "height": 275
        },
        "outputId": "b1d75183-af63-4dab-ee59-17b1c1f6caa0"
      },
      "source": [
        "plt.plot(param_range, gs.cv_results_[\"mean_train_score\"]);"
      ],
      "execution_count": 37,
      "outputs": [
        {
          "output_type": "display_data",
          "data": {
            "image/png": "[encoded data removed]",
            "text/plain": [
              "<Figure size 432x288 with 1 Axes>"
            ]
          },
          "metadata": {
            "tags": [],
            "image/png": {
              "width": 362,
              "height": 258
            },
            "needs_background": "light"
          }
        }
      ]
    },
    {
      "cell_type": "markdown",
      "metadata": {
        "id": "zqpqMC1FZgN3",
        "colab_type": "text"
      },
      "source": [
        "В&nbsp;целом результат ожидаемый&nbsp;— чем больше обученных моделей, тем лучше."
      ]
    },
    {
      "cell_type": "markdown",
      "metadata": {
        "id": "DjmWdc2pZgN4",
        "colab_type": "text"
      },
      "source": [
        "На&nbsp;тестовом наборе данных картина похожа:"
      ]
    },
    {
      "cell_type": "code",
      "metadata": {
        "id": "8YwAk_k1ZgN4",
        "colab_type": "code",
        "colab": {
          "base_uri": "https://localhost:8080/",
          "height": 265
        },
        "outputId": "68571adf-e547-49b4-904e-05bf1423ef56"
      },
      "source": [
        "plt.plot(param_range, gs.cv_results_[\"mean_test_score\"]);"
      ],
      "execution_count": 38,
      "outputs": [
        {
          "output_type": "display_data",
          "data": {
            "image/png": "[encoded data removed]",
            "text/plain": [
              "<Figure size 432x288 with 1 Axes>"
            ]
          },
          "metadata": {
            "tags": [],
            "image/png": {
              "width": 397,
              "height": 248
            },
            "needs_background": "light"
          }
        }
      ]
    },
    {
      "cell_type": "markdown",
      "metadata": {
        "id": "Sy7BsjrBZgN6",
        "colab_type": "text"
      },
      "source": [
        "Из-за присутствия элемента случайности, график немного скачет. Однако это не мешает найти лучший результат."
      ]
    },
    {
      "cell_type": "code",
      "metadata": {
        "id": "aQgHfl7sZgN7",
        "colab_type": "code",
        "colab": {
          "base_uri": "https://localhost:8080/",
          "height": 68
        },
        "outputId": "43da0a99-3255-4235-b98a-0fe62a6fefbb"
      },
      "source": [
        "reg = gs.best_estimator_\n",
        "reg.fit(X_train, y_train)\n",
        "test_model(reg)"
      ],
      "execution_count": 39,
      "outputs": [
        {
          "output_type": "stream",
          "text": [
            "mean_absolute_error: 1.4076544943820246\n",
            "median_absolute_error: 1.0437499999999886\n",
            "r2_score: 0.999668509863967\n"
          ],
          "name": "stdout"
        }
      ]
    },
    {
      "cell_type": "markdown",
      "metadata": {
        "id": "CegxNEScZgN8",
        "colab_type": "text"
      },
      "source": [
        "Данная модель оказалась примерно такая же как и исходная."
      ]
    },
    {
      "cell_type": "markdown",
      "metadata": {
        "id": "h1X2sukSZgN9",
        "colab_type": "text"
      },
      "source": [
        "### Градиентный бустинг"
      ]
    },
    {
      "cell_type": "markdown",
      "metadata": {
        "id": "_9y-_UE3ZgN-",
        "colab_type": "text"
      },
      "source": [
        "Список настраиваемых параметров оставим тем же."
      ]
    },
    {
      "cell_type": "code",
      "metadata": {
        "id": "eLbG7qfXZgN-",
        "colab_type": "code",
        "colab": {
          "base_uri": "https://localhost:8080/",
          "height": 51
        },
        "outputId": "e0602ce3-811b-4ccb-d49e-36c4a1fdc168"
      },
      "source": [
        "tuned_parameters"
      ],
      "execution_count": 40,
      "outputs": [
        {
          "output_type": "execute_result",
          "data": {
            "text/plain": [
              "[{'n_estimators': array([ 10,  20,  30,  40,  50,  60,  70,  80,  90, 100, 110, 120, 130,\n",
              "         140, 150, 160, 170, 180, 190, 200])}]"
            ]
          },
          "metadata": {
            "tags": []
          },
          "execution_count": 40
        }
      ]
    },
    {
      "cell_type": "markdown",
      "metadata": {
        "id": "vG4ubGkWZgOD",
        "colab_type": "text"
      },
      "source": [
        "Запустим подбор параметра:"
      ]
    },
    {
      "cell_type": "code",
      "metadata": {
        "id": "q2ALKLgwZgOD",
        "colab_type": "code",
        "colab": {
          "base_uri": "https://localhost:8080/",
          "height": 170
        },
        "outputId": "39bbe668-2c34-4bde-a070-cf476e65e865"
      },
      "source": [
        "gs = GridSearchCV(GradientBoostingRegressor(), tuned_parameters,\n",
        "                  cv=ShuffleSplit(n_splits=10), scoring=\"r2\",\n",
        "                  return_train_score=True, n_jobs=-1)\n",
        "gs.fit(X, y)\n",
        "gs.best_estimator_"
      ],
      "execution_count": 41,
      "outputs": [
        {
          "output_type": "execute_result",
          "data": {
            "text/plain": [
              "GradientBoostingRegressor(alpha=0.9, ccp_alpha=0.0, criterion='friedman_mse',\n",
              "                          init=None, learning_rate=0.1, loss='ls', max_depth=3,\n",
              "                          max_features=None, max_leaf_nodes=None,\n",
              "                          min_impurity_decrease=0.0, min_impurity_split=None,\n",
              "                          min_samples_leaf=1, min_samples_split=2,\n",
              "                          min_weight_fraction_leaf=0.0, n_estimators=70,\n",
              "                          n_iter_no_change=None, presort='deprecated',\n",
              "                          random_state=None, subsample=1.0, tol=0.0001,\n",
              "                          validation_fraction=0.1, verbose=0, warm_start=False)"
            ]
          },
          "metadata": {
            "tags": []
          },
          "execution_count": 41
        }
      ]
    },
    {
      "cell_type": "markdown",
      "metadata": {
        "id": "9Ob3npXVZgOG",
        "colab_type": "text"
      },
      "source": [
        "Проверим результаты при&nbsp;разных значения гиперпараметра на&nbsp;тренировочном наборе данных:"
      ]
    },
    {
      "cell_type": "code",
      "metadata": {
        "id": "ny1xIWT7ZgOH",
        "colab_type": "code",
        "colab": {
          "base_uri": "https://localhost:8080/",
          "height": 265
        },
        "outputId": "865f7e71-0a78-4e54-ab88-1c4e36dd70ee"
      },
      "source": [
        "plt.plot(param_range, gs.cv_results_[\"mean_train_score\"]);"
      ],
      "execution_count": 42,
      "outputs": [
        {
          "output_type": "display_data",
          "data": {
            "image/png": "[encoded data removed]",
            "text/plain": [
              "<Figure size 432x288 with 1 Axes>"
            ]
          },
          "metadata": {
            "tags": [],
            "image/png": {
              "width": 378,
              "height": 248
            },
            "needs_background": "light"
          }
        }
      ]
    },
    {
      "cell_type": "markdown",
      "metadata": {
        "id": "QSDEEAPLZgOJ",
        "colab_type": "text"
      },
      "source": [
        "Картина та же: чем больше подмоделей, тем лучше. Однако после определенного момента результат достигает пика и больше не меняется"
      ]
    },
    {
      "cell_type": "markdown",
      "metadata": {
        "id": "0o8kOWHOZgOJ",
        "colab_type": "text"
      },
      "source": [
        "На&nbsp;тестовом наборе данных картина ровно та же:"
      ]
    },
    {
      "cell_type": "code",
      "metadata": {
        "id": "UI3VF2rTZgOJ",
        "colab_type": "code",
        "colab": {
          "base_uri": "https://localhost:8080/",
          "height": 265
        },
        "outputId": "d4110b02-f095-4bee-df4d-e0f66f640a6a"
      },
      "source": [
        "plt.plot(param_range, gs.cv_results_[\"mean_test_score\"]);"
      ],
      "execution_count": 43,
      "outputs": [
        {
          "output_type": "display_data",
          "data": {
            "image/png": "[encoded data removed]",
            "text/plain": [
              "<Figure size 432x288 with 1 Axes>"
            ]
          },
          "metadata": {
            "tags": [],
            "image/png": {
              "width": 378,
              "height": 248
            },
            "needs_background": "light"
          }
        }
      ]
    },
    {
      "cell_type": "markdown",
      "metadata": {
        "id": "WsligbPoZgOL",
        "colab_type": "text"
      },
      "source": [
        "Однако из полученных результатов можно выделить явную тенденцию: чем больше моделей тем лучше."
      ]
    },
    {
      "cell_type": "code",
      "metadata": {
        "id": "z9btwl3NZgON",
        "colab_type": "code",
        "colab": {
          "base_uri": "https://localhost:8080/",
          "height": 68
        },
        "outputId": "f521ac4e-6ad1-4610-a93f-9bf8b5a13c45"
      },
      "source": [
        "reg = gs.best_estimator_\n",
        "reg.fit(X_train, y_train)\n",
        "test_model(reg)"
      ],
      "execution_count": 44,
      "outputs": [
        {
          "output_type": "stream",
          "text": [
            "mean_absolute_error: 1.289725144853649\n",
            "median_absolute_error: 1.1427072825601954\n",
            "r2_score: 0.9997635451970246\n"
          ],
          "name": "stdout"
        }
      ]
    }
  ]
}